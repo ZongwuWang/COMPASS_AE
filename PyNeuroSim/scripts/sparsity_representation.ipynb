{
 "cells": [
  {
   "cell_type": "code",
   "execution_count": null,
   "metadata": {},
   "outputs": [],
   "source": [
    "import numpy as np\n",
    "from scipy.sparse import csr_matrix\n",
    "\n",
    "# 生成一个随机的四维输入矩阵，例如N=2, C=3, H=4, W=5\n",
    "C, H, W = 2, 4, 4\n",
    "input_matrix = np.random.choice([0, 1], size=(C, H, W), p=[0.8, 0.2])\n",
    "# input_matrix = np.transpose(input_matrix, (1, 2, 0))\n",
    "print(input_matrix)\n",
    "\n",
    "# 将四维矩阵转换为二维矩阵\n",
    "flattened_matrix = input_matrix.reshape(-1, H*W)\n",
    "print(flattened_matrix)\n",
    "\n",
    "# 将二维矩阵转换为CSR格式\n",
    "csr_matrix_form = csr_matrix(flattened_matrix)\n",
    "\n",
    "# 输出CSR格式矩阵的一些信息\n",
    "csr_info = {\n",
    "    'data': csr_matrix_form.data,\n",
    "    'indices': csr_matrix_form.indices,\n",
    "    'indptr': csr_matrix_form.indptr,\n",
    "    'shape': csr_matrix_form.shape\n",
    "}\n",
    "csr_info"
   ]
  },
  {
   "cell_type": "code",
   "execution_count": null,
   "metadata": {},
   "outputs": [],
   "source": [
    "def csr_img2col(csr_matrix, kernel_size, stride):\n",
    "    H, W = csr_matrix.shape\n",
    "    output_height = (H - kernel_size) // stride + 1\n",
    "    output_width = (W - kernel_size) // stride + 1\n",
    "\n",
    "    # 初始化列矩阵\n",
    "    col_data = []\n",
    "    col_indices = []\n",
    "    col_indptr = [0]\n",
    "\n",
    "    # 遍历每个非零元素，尝试构建3x3窗口\n",
    "    for i in range(output_height):\n",
    "        for j in range(output_width):\n",
    "            window_data = []\n",
    "            window_indices = []\n",
    "            for ki in range(kernel_size):\n",
    "                for kj in range(kernel_size):\n",
    "                    row_index = i * stride + ki\n",
    "                    col_index = j * stride + kj\n",
    "\n",
    "                    # 检查当前位置是否有非零值\n",
    "                    if row_index < H and col_index < W:\n",
    "                        data_index = csr_matrix[row_index, col_index]\n",
    "                        if data_index != 0:\n",
    "                            window_data.append(data_index)\n",
    "                            window_indices.append(ki * kernel_size + kj)\n",
    "\n",
    "            col_data.extend(window_data)\n",
    "            col_indices.extend(window_indices)\n",
    "            col_indptr.append(len(col_data))\n",
    "\n",
    "    # 转换为CSR格式\n",
    "    from scipy.sparse import csr_matrix as csr\n",
    "    col_csr_matrix = csr((col_data, col_indices, col_indptr), shape=(output_height * output_width, kernel_size**2))\n",
    "    return col_csr_matrix\n"
   ]
  },
  {
   "cell_type": "code",
   "execution_count": null,
   "metadata": {},
   "outputs": [],
   "source": [
    "import numpy as np\n",
    "from scipy.sparse import random\n",
    "\n",
    "# 设置参数\n",
    "H, W = 28, 28  # 图像的高度和宽度\n",
    "kernel_size = 3  # 卷积核的大小\n",
    "stride = 1  # 步长\n",
    "\n",
    "# 生成一个28x28的稀疏矩阵，密度设置为0.1\n",
    "sparse_matrix = random(H, W, density=0.1, format='csr', dtype=np.float32)\n",
    "\n",
    "\n",
    "# 执行CSR格式的img2col操作\n",
    "csr_col_matrix = csr_img2col(sparse_matrix, kernel_size, stride)\n",
    "\n",
    "# 显示结果\n",
    "csr_col_matrix.shape, csr_col_matrix.nnz\n"
   ]
  }
 ],
 "metadata": {
  "kernelspec": {
   "display_name": "Python 3",
   "language": "python",
   "name": "python3"
  },
  "language_info": {
   "codemirror_mode": {
    "name": "ipython",
    "version": 3
   },
   "file_extension": ".py",
   "mimetype": "text/x-python",
   "name": "python",
   "nbconvert_exporter": "python",
   "pygments_lexer": "ipython3",
   "version": "3.8.10"
  }
 },
 "nbformat": 4,
 "nbformat_minor": 2
}
